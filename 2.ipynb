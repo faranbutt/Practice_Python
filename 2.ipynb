{
 "cells": [
  {
   "cell_type": "code",
   "execution_count": 1,
   "metadata": {},
   "outputs": [],
   "source": [
    "import g4f"
   ]
  },
  {
   "cell_type": "code",
   "execution_count": 3,
   "metadata": {},
   "outputs": [],
   "source": [
    "def llm_response(prompt:str)->str:\n",
    "    response = g4f.ChatCompletion.create(\n",
    "        model='gpt-3.5-turbo',\n",
    "        messages=[{\"role\":\"user\",\"content\":prompt}],\n",
    "        temprature=0\n",
    "    )\n",
    "    return response"
   ]
  },
  {
   "cell_type": "code",
   "execution_count": 5,
   "metadata": {},
   "outputs": [
    {
     "name": "stdout",
     "output_type": "stream",
     "text": [
      "Positive sentiment\n"
     ]
    }
   ],
   "source": [
    "prompt = '''\n",
    "    Classify the following review \n",
    "    as having either a positive or\n",
    "    negative sentiment in two words:\n",
    "\n",
    "    The banana pudding was really tasty!\n",
    "'''\n",
    "response = llm_response(prompt)\n",
    "print(response)"
   ]
  },
  {
   "cell_type": "code",
   "execution_count": 10,
   "metadata": {},
   "outputs": [
    {
     "data": {
      "text/plain": [
       "['The mochi is excellent!', 'Not worth the 3 month wait for a reservation.']"
      ]
     },
     "execution_count": 10,
     "metadata": {},
     "output_type": "execute_result"
    }
   ],
   "source": [
    "all_reviews = [\n",
    "    'The mochi is excellent!',\n",
    "    'Not worth the 3 month wait for a reservation.',\n",
    "]\n",
    "\n",
    "all_reviews"
   ]
  },
  {
   "cell_type": "code",
   "execution_count": 12,
   "metadata": {},
   "outputs": [],
   "source": [
    "all_sentiments = []\n",
    "for review in all_reviews:\n",
    "    prompt2 = f'''\n",
    "    Classify the following review \n",
    "    as having either a positive or\n",
    "    negative sentiment. State your answer\n",
    "    as a single word, either \"positive\" or\n",
    "    \"negative\":\n",
    "    {review}\n",
    "    '''\n",
    "    response = llm_response(prompt2)\n",
    "    all_sentiments.append(response)"
   ]
  },
  {
   "cell_type": "code",
   "execution_count": 16,
   "metadata": {},
   "outputs": [
    {
     "name": "stdout",
     "output_type": "stream",
     "text": [
      "There are 1 positive and 1 negative reviews\n"
     ]
    }
   ],
   "source": [
    "num_postive = 0\n",
    "num_negative = 0\n",
    "for sentiment in all_sentiments:\n",
    "    if sentiment.lower() == 'positive':\n",
    "        num_postive+=1\n",
    "    elif sentiment.lower() == 'negative':\n",
    "        num_negative+=1\n",
    "print(f'There are {num_postive} positive and {num_negative} negative reviews')"
   ]
  },
  {
   "cell_type": "code",
   "execution_count": 14,
   "metadata": {},
   "outputs": [
    {
     "data": {
      "text/plain": [
       "['Positive', 'negative']"
      ]
     },
     "execution_count": 14,
     "metadata": {},
     "output_type": "execute_result"
    }
   ],
   "source": [
    "all_sentiments"
   ]
  },
  {
   "cell_type": "code",
   "execution_count": 1,
   "metadata": {},
   "outputs": [],
   "source": [
    "import g4f"
   ]
  },
  {
   "cell_type": "code",
   "execution_count": 25,
   "metadata": {},
   "outputs": [
    {
     "name": "stdout",
     "output_type": "stream",
     "text": [
      "1+1 is equal to 2."
     ]
    }
   ],
   "source": [
    "response = g4f.ChatCompletion.create(\n",
    "    model='gpt-3.5-turbo',\n",
    "    messages=[\n",
    "        {\"role\":\"system\",\"content\":\"You should act like a assistant, skilled in explaining problems like a JSON\"},\n",
    "        {\"role\":\"user\",\"content\":\"What is 1+1\"},\n",
    "            \n",
    "        ],\n",
    "        stream=True\n",
    "    )\n",
    "for i in response:\n",
    "    print(i,flush=True,end='')"
   ]
  },
  {
   "cell_type": "code",
   "execution_count": 22,
   "metadata": {},
   "outputs": [
    {
     "name": "stdout",
     "output_type": "stream",
     "text": [
      "<generator object RetryProvider.create_completion at 0x7f0b5e535580>\n"
     ]
    }
   ],
   "source": [
    "res = llm_response(\"What is 1+1\")"
   ]
  },
  {
   "cell_type": "code",
   "execution_count": 23,
   "metadata": {},
   "outputs": [
    {
     "ename": "TypeError",
     "evalue": "'NoneType' object is not iterable",
     "output_type": "error",
     "traceback": [
      "\u001b[0;31m---------------------------------------------------------------------------\u001b[0m",
      "\u001b[0;31mTypeError\u001b[0m                                 Traceback (most recent call last)",
      "\u001b[1;32m/workspaces/Practice_Python/2.ipynb Cell 11\u001b[0m line \u001b[0;36m1\n\u001b[0;32m----> <a href='vscode-notebook-cell://codespaces%2Bjubilant-meme-7wr9rvvpq5rcqxp/workspaces/Practice_Python/2.ipynb#X13sdnNjb2RlLXJlbW90ZQ%3D%3D?line=0'>1</a>\u001b[0m \u001b[39mfor\u001b[39;49;00m r \u001b[39min\u001b[39;49;00m res:\n\u001b[1;32m      <a href='vscode-notebook-cell://codespaces%2Bjubilant-meme-7wr9rvvpq5rcqxp/workspaces/Practice_Python/2.ipynb#X13sdnNjb2RlLXJlbW90ZQ%3D%3D?line=1'>2</a>\u001b[0m     \u001b[39mprint\u001b[39;49m(r)\n",
      "\u001b[0;31mTypeError\u001b[0m: 'NoneType' object is not iterable"
     ]
    }
   ],
   "source": [
    "for r in res:\n",
    "    print(r)"
   ]
  },
  {
   "cell_type": "code",
   "execution_count": null,
   "metadata": {},
   "outputs": [],
   "source": []
  }
 ],
 "metadata": {
  "kernelspec": {
   "display_name": "myopenai",
   "language": "python",
   "name": "python3"
  },
  "language_info": {
   "codemirror_mode": {
    "name": "ipython",
    "version": 3
   },
   "file_extension": ".py",
   "mimetype": "text/x-python",
   "name": "python",
   "nbconvert_exporter": "python",
   "pygments_lexer": "ipython3",
   "version": "3.11.5"
  }
 },
 "nbformat": 4,
 "nbformat_minor": 2
}
