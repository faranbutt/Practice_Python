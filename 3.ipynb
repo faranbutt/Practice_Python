{
 "cells": [
  {
   "cell_type": "code",
   "execution_count": 2,
   "metadata": {},
   "outputs": [],
   "source": [
    "import pandas as pd\n",
    "import pandera as pa"
   ]
  },
  {
   "cell_type": "code",
   "execution_count": 4,
   "metadata": {},
   "outputs": [
    {
     "data": {
      "text/plain": [
       "[1, 2, 3, 4, 5]"
      ]
     },
     "execution_count": 4,
     "metadata": {},
     "output_type": "execute_result"
    }
   ],
   "source": [
    "l1:list[int] = [1,2,3,4,5]\n",
    "l1"
   ]
  },
  {
   "cell_type": "code",
   "execution_count": 5,
   "metadata": {},
   "outputs": [
    {
     "data": {
      "text/plain": [
       "0    1\n",
       "1    2\n",
       "2    3\n",
       "3    4\n",
       "4    5\n",
       "dtype: int64"
      ]
     },
     "execution_count": 5,
     "metadata": {},
     "output_type": "execute_result"
    }
   ],
   "source": [
    "s1: pd.Series = pd.Series([1,2,3,4,5])\n",
    "s1"
   ]
  },
  {
   "cell_type": "code",
   "execution_count": 7,
   "metadata": {},
   "outputs": [
    {
     "data": {
      "text/plain": [
       "0    1\n",
       "1    2\n",
       "2    3\n",
       "3    4\n",
       "4    5\n",
       "dtype: int64"
      ]
     },
     "execution_count": 7,
     "metadata": {},
     "output_type": "execute_result"
    }
   ],
   "source": [
    "tu1: pd.Series = pd.Series((1,2,3,4,5))\n",
    "tu1"
   ]
  },
  {
   "cell_type": "code",
   "execution_count": 8,
   "metadata": {},
   "outputs": [
    {
     "data": {
      "text/plain": [
       "a    1\n",
       "b    2\n",
       "c    3\n",
       "dtype: int64"
      ]
     },
     "execution_count": 8,
     "metadata": {},
     "output_type": "execute_result"
    }
   ],
   "source": [
    "dic1: pd.Series = pd.Series({\"a\":1,\"b\":2,\"c\":3})\n",
    "dic1"
   ]
  },
  {
   "cell_type": "code",
   "execution_count": 13,
   "metadata": {},
   "outputs": [
    {
     "data": {
      "text/plain": [
       "a    1\n",
       "b    2\n",
       "c    3\n",
       "d    4\n",
       "e    5\n",
       "dtype: int64"
      ]
     },
     "execution_count": 13,
     "metadata": {},
     "output_type": "execute_result"
    }
   ],
   "source": [
    "values: list[int] = [1,2,3,4,5]\n",
    "key: list[str] = ['a','b','c','d','e']\n",
    "pd.Series(values,index=key)"
   ]
  },
  {
   "cell_type": "code",
   "execution_count": 15,
   "metadata": {},
   "outputs": [
    {
     "data": {
      "text/plain": [
       "a1  a    1\n",
       "    b    2\n",
       "    c    3\n",
       "b1  d    4\n",
       "    e    5\n",
       "Name: Students_Data, dtype: int64"
      ]
     },
     "execution_count": 15,
     "metadata": {},
     "output_type": "execute_result"
    }
   ],
   "source": [
    "values = [1,2,3,4,5]\n",
    "keys: list[list[str]] = [['a1','a1','a1','b1','b1'],['a','b','c','d','e']]\n",
    "pd.Series(values,index=keys,name=\"Students_Data\")"
   ]
  },
  {
   "cell_type": "code",
   "execution_count": 1,
   "metadata": {},
   "outputs": [],
   "source": [
    "import numpy as np"
   ]
  },
  {
   "cell_type": "code",
   "execution_count": 5,
   "metadata": {},
   "outputs": [
    {
     "data": {
      "text/plain": [
       "a1  a    1.0\n",
       "    b    2.0\n",
       "    c    3.0\n",
       "b1  d    4.0\n",
       "    e    5.0\n",
       "Name: Student_Courses, dtype: float32"
      ]
     },
     "execution_count": 5,
     "metadata": {},
     "output_type": "execute_result"
    }
   ],
   "source": [
    "values : list[int] = [1,2,3,4,5]\n",
    "keys: list[list[str]] = [['a1','a1','a1','b1','b1'],['a','b','c','d','e']]\n",
    "pd.Series(values,index=keys,name=\"Student_Courses\",dtype=np.float32)"
   ]
  },
  {
   "cell_type": "code",
   "execution_count": 7,
   "metadata": {},
   "outputs": [],
   "source": [
    "from nptyping import DataFrame, Structure as S"
   ]
  },
  {
   "cell_type": "code",
   "execution_count": 10,
   "metadata": {},
   "outputs": [
    {
     "ename": "InvalidStructureError",
     "evalue": "'Str' is not a valid structure expression.",
     "output_type": "error",
     "traceback": [
      "\u001b[0;31m---------------------------------------------------------------------------\u001b[0m",
      "\u001b[0;31mInvalidStructureError\u001b[0m                     Traceback (most recent call last)",
      "\u001b[1;32m/workspaces/Practice_Python/3.ipynb Cell 11\u001b[0m line \u001b[0;36m1\n\u001b[0;32m----> <a href='vscode-notebook-cell://codespaces%2Bjubilant-meme-7wr9rvvpq5rcqxp/workspaces/Practice_Python/3.ipynb#X13sdnNjb2RlLXJlbW90ZQ%3D%3D?line=0'>1</a>\u001b[0m s: S[\u001b[39m\"\u001b[39;49m\u001b[39mStr\u001b[39;49m\u001b[39m\"\u001b[39;49m] \u001b[39m=\u001b[39m pd\u001b[39m.\u001b[39mDataFrame([\u001b[39m'\u001b[39m\u001b[39ma\u001b[39m\u001b[39m'\u001b[39m,\u001b[39m'\u001b[39m\u001b[39mb\u001b[39m\u001b[39m'\u001b[39m,\u001b[39m'\u001b[39m\u001b[39mc\u001b[39m\u001b[39m'\u001b[39m])\n\u001b[1;32m      <a href='vscode-notebook-cell://codespaces%2Bjubilant-meme-7wr9rvvpq5rcqxp/workspaces/Practice_Python/3.ipynb#X13sdnNjb2RlLXJlbW90ZQ%3D%3D?line=1'>2</a>\u001b[0m s\n",
      "File \u001b[0;32m/opt/conda/envs/myopenai/lib/python3.11/site-packages/nptyping/base_meta_classes.py:145\u001b[0m, in \u001b[0;36mSubscriptableMeta.__getitem__\u001b[0;34m(cls, item)\u001b[0m\n\u001b[1;32m    142\u001b[0m \u001b[39mif\u001b[39;00m \u001b[39mgetattr\u001b[39m(\u001b[39mcls\u001b[39m, \u001b[39m\"\u001b[39m\u001b[39m_parameterized\u001b[39m\u001b[39m\"\u001b[39m, \u001b[39mFalse\u001b[39;00m):\n\u001b[1;32m    143\u001b[0m     \u001b[39mraise\u001b[39;00m NPTypingError(\u001b[39mf\u001b[39m\u001b[39m\"\u001b[39m\u001b[39mType nptyping.\u001b[39m\u001b[39m{\u001b[39;00m\u001b[39mcls\u001b[39m\u001b[39m}\u001b[39;00m\u001b[39m is already parameterized.\u001b[39m\u001b[39m\"\u001b[39m)\n\u001b[0;32m--> 145\u001b[0m args \u001b[39m=\u001b[39m \u001b[39mcls\u001b[39;49m\u001b[39m.\u001b[39;49m_get_item(item)\n\u001b[1;32m    146\u001b[0m additional_values \u001b[39m=\u001b[39m \u001b[39mcls\u001b[39m\u001b[39m.\u001b[39m_get_additional_values(item)\n\u001b[1;32m    147\u001b[0m \u001b[39massert\u001b[39;00m \u001b[39mhasattr\u001b[39m(\u001b[39mcls\u001b[39m, \u001b[39m\"\u001b[39m\u001b[39m__args__\u001b[39m\u001b[39m\"\u001b[39m), \u001b[39m\"\u001b[39m\u001b[39mA SubscriptableMeta must have __args__.\u001b[39m\u001b[39m\"\u001b[39m\n",
      "File \u001b[0;32m/opt/conda/envs/myopenai/lib/python3.11/site-packages/nptyping/base_meta_classes.py:222\u001b[0m, in \u001b[0;36mContainerMeta._get_item\u001b[0;34m(cls, item)\u001b[0m\n\u001b[1;32m    217\u001b[0m \u001b[39mif\u001b[39;00m item \u001b[39min\u001b[39;00m \u001b[39mcls\u001b[39m\u001b[39m.\u001b[39m_known_expressions:\n\u001b[1;32m    218\u001b[0m     \u001b[39m# No need to do costly validations and normalizations if it has been done\u001b[39;00m\n\u001b[1;32m    219\u001b[0m     \u001b[39m# before.\u001b[39;00m\n\u001b[1;32m    220\u001b[0m     \u001b[39mreturn\u001b[39;00m (item,)\n\u001b[0;32m--> 222\u001b[0m \u001b[39mcls\u001b[39;49m\u001b[39m.\u001b[39;49m_validate_expression(item)\n\u001b[1;32m    223\u001b[0m norm_shape_expression \u001b[39m=\u001b[39m \u001b[39mcls\u001b[39m\u001b[39m.\u001b[39m_normalize_expression(item)\n\u001b[1;32m    224\u001b[0m \u001b[39mcls\u001b[39m\u001b[39m.\u001b[39m_known_expressions\u001b[39m.\u001b[39madd(norm_shape_expression)\n",
      "File \u001b[0;32m/opt/conda/envs/myopenai/lib/python3.11/site-packages/nptyping/structure.py:48\u001b[0m, in \u001b[0;36mStructureMeta._validate_expression\u001b[0;34m(cls, item)\u001b[0m\n\u001b[1;32m     47\u001b[0m \u001b[39mdef\u001b[39;00m \u001b[39m_validate_expression\u001b[39m(\u001b[39mcls\u001b[39m, item: \u001b[39mstr\u001b[39m) \u001b[39m-\u001b[39m\u001b[39m>\u001b[39m \u001b[39mNone\u001b[39;00m:\n\u001b[0;32m---> 48\u001b[0m     validate_structure_expression(item)\n",
      "File \u001b[0;32m/opt/conda/envs/myopenai/lib/python3.11/site-packages/nptyping/structure_expression.py:65\u001b[0m, in \u001b[0;36mvalidate_structure_expression\u001b[0;34m(structure_expression)\u001b[0m\n\u001b[1;32m     63\u001b[0m \u001b[39mif\u001b[39;00m structure_expression \u001b[39mis\u001b[39;00m \u001b[39mnot\u001b[39;00m Any:\n\u001b[1;32m     64\u001b[0m     \u001b[39mif\u001b[39;00m \u001b[39mnot\u001b[39;00m re\u001b[39m.\u001b[39mmatch(_REGEX_STRUCTURE_EXPRESSION, structure_expression):\n\u001b[0;32m---> 65\u001b[0m         \u001b[39mraise\u001b[39;00m InvalidStructureError(\n\u001b[1;32m     66\u001b[0m             \u001b[39mf\u001b[39m\u001b[39m\"\u001b[39m\u001b[39m'\u001b[39m\u001b[39m{\u001b[39;00mstructure_expression\u001b[39m}\u001b[39;00m\u001b[39m'\u001b[39m\u001b[39m is not a valid structure expression.\u001b[39m\u001b[39m\"\u001b[39m\n\u001b[1;32m     67\u001b[0m         )\n\u001b[1;32m     68\u001b[0m     _validate_structure_expression_contains_no_multiple_field_names(\n\u001b[1;32m     69\u001b[0m         structure_expression\n\u001b[1;32m     70\u001b[0m     )\n\u001b[1;32m     71\u001b[0m     _validate_sub_array_expressions(structure_expression)\n",
      "\u001b[0;31mInvalidStructureError\u001b[0m: 'Str' is not a valid structure expression."
     ]
    }
   ],
   "source": [
    "s: S[\"Str\"] = pd.DataFrame(['a','b','c'])\n",
    "s"
   ]
  },
  {
   "cell_type": "code",
   "execution_count": null,
   "metadata": {},
   "outputs": [],
   "source": []
  }
 ],
 "metadata": {
  "kernelspec": {
   "display_name": "myopenai",
   "language": "python",
   "name": "python3"
  },
  "language_info": {
   "codemirror_mode": {
    "name": "ipython",
    "version": 3
   },
   "file_extension": ".py",
   "mimetype": "text/x-python",
   "name": "python",
   "nbconvert_exporter": "python",
   "pygments_lexer": "ipython3",
   "version": "3.11.5"
  }
 },
 "nbformat": 4,
 "nbformat_minor": 2
}
